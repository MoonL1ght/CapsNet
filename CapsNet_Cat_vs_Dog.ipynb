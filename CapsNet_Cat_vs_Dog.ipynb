{
 "cells": [
  {
   "cell_type": "code",
   "execution_count": 94,
   "metadata": {
    "scrolled": true
   },
   "outputs": [],
   "source": [
    "import matplotlib.pyplot as plt\n",
    "import numpy as np\n",
    "import os\n",
    "import cv2\n",
    "import tensorflow as tf\n",
    "import time\n",
    "from caps_net import CapsNet"
   ]
  },
  {
   "cell_type": "code",
   "execution_count": 95,
   "metadata": {},
   "outputs": [],
   "source": [
    "PIXEL_DEPTH = 255.0\n",
    "IMAGE_SIZE = 40;\n",
    "CHANNELS = 1\n",
    "\n",
    "def read_image(file_path):\n",
    "    img = cv2.imread(file_path, cv2.IMREAD_COLOR)\n",
    "    if (img.shape[0] >= img.shape[1]):\n",
    "        resizeto = (IMAGE_SIZE, int(round(IMAGE_SIZE * (float(img.shape[1]) / img.shape[0]))))\n",
    "    else:\n",
    "        resizeto = (int(round(IMAGE_SIZE * (float(img.shape[0])  / img.shape[1]))), IMAGE_SIZE)\n",
    "    img = cv2.resize(img, (resizeto[1], resizeto[0]), interpolation=cv2.INTER_CUBIC)\n",
    "#   img = cv2.resize(img, (IMAGE_SIZE, IMAGE_SIZE), interpolation=cv2.INTER_CUBIC)\n",
    "    img = cv2.cvtColor(img, cv2.COLOR_BGR2GRAY)\n",
    "    img = cv2.copyMakeBorder(img, 0, IMAGE_SIZE - img.shape[0], 0,\n",
    "        IMAGE_SIZE - img.shape[1], cv2.BORDER_CONSTANT, 0)\n",
    "    return img\n",
    "\n",
    "def prep_images(images, normalize=True, pixel_depth=PIXEL_DEPTH):\n",
    "    count = len(images)\n",
    "    data = np.ndarray((count, IMAGE_SIZE, IMAGE_SIZE), dtype=np.float32)\n",
    "#   for i in tqdm(range(count)):\n",
    "    for i in range(count):\n",
    "        image = read_image(images[i])\n",
    "        image_data = np.array(image, dtype=np.float32)\n",
    "        if normalize:\n",
    "            image_data = image_data.astype(float) / pixel_depth\n",
    "#             image_data[:,:,1] = image_data[:,:,1].astype(float) / pixel_depth\n",
    "#             image_data[:,:,2] = image_data[:,:,2].astype(float) / pixel_depth\n",
    "        data[i] = image_data\n",
    "    return data\n",
    "\n",
    "def randomize_data(data):\n",
    "    data = np.array(data)\n",
    "    permutation = np.random.permutation(data.shape[0])\n",
    "    shuffled_data = data[permutation]\n",
    "    return shuffled_data\n",
    "\n",
    "def next_batch(x, y, batch_index, batch_size):\n",
    "    start = batch_index*batch_size\n",
    "    end = batch_index*batch_size+batch_size\n",
    "    x_batch = x[start:end]\n",
    "    if y is not None:\n",
    "        y_batch = y[start:end]\n",
    "        return x_batch, y_batch\n",
    "    else:\n",
    "        return x_batch\n",
    "    \n",
    "def fetch_batch(size, x, y):\n",
    "    idx = np.arange(0 , len(x))\n",
    "    np.random.shuffle(idx)\n",
    "    idx = idx[:size]\n",
    "    data_shuffle = [x[i] for i in idx]\n",
    "    labels_shuffle = [y[i] for i in idx]\n",
    "    return np.asarray(data_shuffle), np.asarray(labels_shuffle)\n",
    "    \n",
    "def create_val_set(data, labels, valid_size):\n",
    "    data_size = data.shape[0]\n",
    "    all_indices = np.array((range(data_size)))\n",
    "    val_indices = np.random.choice(range(data_size), valid_size, replace=False)\n",
    "    train_indices = np.delete(all_indices, val_indices)\n",
    "    data_train = np.delete(data, val_indices, axis=0)\n",
    "    label_train = np.delete(labels, val_indices, axis=0)\n",
    "    data_val = np.delete(data, train_indices, axis=0)\n",
    "    label_val = np.delete(labels, train_indices, axis=0)\n",
    "    return data_train, label_train, data_val, label_val"
   ]
  },
  {
   "cell_type": "code",
   "execution_count": 96,
   "metadata": {},
   "outputs": [
    {
     "name": "stdout",
     "output_type": "stream",
     "text": [
      "Train dataset shape: (24950,)\n",
      "Train labels shape: (24950,)\n",
      "Validation dataset shape: (50,)\n",
      "Validation labels shape: (50,)\n"
     ]
    }
   ],
   "source": [
    "TRAIN_DIR = './data/train/'\n",
    "TEST_DIR = './data/test1/'\n",
    "\n",
    "valid_size = 50\n",
    "\n",
    "train_images = [TRAIN_DIR+i for i in os.listdir(TRAIN_DIR)]\n",
    "train_images = randomize_data(train_images)\n",
    "\n",
    "train_dataset, train_labels,\\\n",
    "valid_dataset, valid_labels = create_val_set(train_images, train_images, valid_size)\n",
    "\n",
    "print('Train dataset shape: {}'.format(train_dataset.shape))\n",
    "print('Train labels shape: {}'.format(train_labels.shape))\n",
    "print('Validation dataset shape: {}'.format(valid_dataset.shape))\n",
    "print('Validation labels shape: {}'.format(valid_labels.shape))"
   ]
  },
  {
   "cell_type": "code",
   "execution_count": 97,
   "metadata": {},
   "outputs": [
    {
     "data": {
      "image/png": "[encoded data removed]",
      "text/plain": [
       "<Figure size 1080x288 with 3 Axes>"
      ]
     },
     "metadata": {},
     "output_type": "display_data"
    }
   ],
   "source": [
    "num_imgs = 3\n",
    "x_batch_imgs, label_batch_imgs = fetch_batch(num_imgs, train_dataset, train_labels)\n",
    "x_batch = prep_images(x_batch_imgs)\n",
    "label_batch = np.array([1 if 'dog' in i else 0 for i in label_batch_imgs])\n",
    "\n",
    "f, axes = plt.subplots(1, num_imgs, figsize=(15,4))\n",
    "for (i, ax) in enumerate(axes):\n",
    "    ax.imshow(x_batch[i], cmap='binary')\n",
    "    label = 'Cat'\n",
    "    if label_batch[i] == 1:\n",
    "        label = 'Dog'\n",
    "    ax.set_title('Label: ' + label)"
   ]
  },
  {
   "cell_type": "code",
   "execution_count": 98,
   "metadata": {},
   "outputs": [],
   "source": [
    "tf.reset_default_graph()\n",
    "\n",
    "INPUT_DIM = (IMAGE_SIZE, IMAGE_SIZE, 1)\n",
    "CLASSES = 2\n",
    "LEARNING_RATE = 0.001\n",
    "\n",
    "caps_net = CapsNet(INPUT_DIM, CLASSES,\n",
    "                   decoder_layers=(512, 1024))\n",
    "\n",
    "optimizer = tf.train.AdamOptimizer(LEARNING_RATE)\n",
    "training_op = optimizer.minimize(caps_net.loss)\n",
    "\n",
    "init = tf.global_variables_initializer()\n",
    "sess = tf.Session()\n",
    "sess.run(init)"
   ]
  },
  {
   "cell_type": "code",
   "execution_count": 102,
   "metadata": {},
   "outputs": [
    {
     "name": "stdout",
     "output_type": "stream",
     "text": [
      "Epoch 0, test margin loss 0.404200\n",
      "Epoch 0, test decoder loss 0.102586\n",
      "Epoch 0, test total loss 0.404251\n",
      "Epoch 0, test accuracy 0.460000\n",
      "Epoch: 0, Iter: 14/832 (1.7%),  Loss: 0.40345, Accuracy: 0.60000"
     ]
    },
    {
     "ename": "KeyboardInterrupt",
     "evalue": "",
     "output_type": "error",
     "traceback": [
      "\u001b[1;31m---------------------------------------------------------------------------\u001b[0m",
      "\u001b[1;31mKeyboardInterrupt\u001b[0m                         Traceback (most recent call last)",
      "\u001b[1;32m<ipython-input-102-85406debbaeb>\u001b[0m in \u001b[0;36m<module>\u001b[1;34m()\u001b[0m\n\u001b[0;32m     48\u001b[0m             \u001b[0mmargin_loss\u001b[0m \u001b[1;33m=\u001b[0m \u001b[0msess\u001b[0m\u001b[1;33m.\u001b[0m\u001b[0mrun\u001b[0m\u001b[1;33m(\u001b[0m\u001b[0mcaps_net\u001b[0m\u001b[1;33m.\u001b[0m\u001b[0mmargin_loss\u001b[0m\u001b[1;33m,\u001b[0m \u001b[0mfeed_dict\u001b[0m\u001b[1;33m=\u001b[0m\u001b[0mfeed_dict_train\u001b[0m\u001b[1;33m)\u001b[0m\u001b[1;33m\u001b[0m\u001b[0m\n\u001b[0;32m     49\u001b[0m             \u001b[0mdecoder_loss\u001b[0m \u001b[1;33m=\u001b[0m \u001b[0msess\u001b[0m\u001b[1;33m.\u001b[0m\u001b[0mrun\u001b[0m\u001b[1;33m(\u001b[0m\u001b[0mcaps_net\u001b[0m\u001b[1;33m.\u001b[0m\u001b[0mdecoder_loss\u001b[0m\u001b[1;33m,\u001b[0m \u001b[0mfeed_dict\u001b[0m\u001b[1;33m=\u001b[0m\u001b[0mfeed_dict_train\u001b[0m\u001b[1;33m)\u001b[0m\u001b[1;33m\u001b[0m\u001b[0m\n\u001b[1;32m---> 50\u001b[1;33m             \u001b[0mloss\u001b[0m \u001b[1;33m=\u001b[0m \u001b[0msess\u001b[0m\u001b[1;33m.\u001b[0m\u001b[0mrun\u001b[0m\u001b[1;33m(\u001b[0m\u001b[0mcaps_net\u001b[0m\u001b[1;33m.\u001b[0m\u001b[0mloss\u001b[0m\u001b[1;33m,\u001b[0m \u001b[0mfeed_dict\u001b[0m\u001b[1;33m=\u001b[0m\u001b[0mfeed_dict_train\u001b[0m\u001b[1;33m)\u001b[0m\u001b[1;33m\u001b[0m\u001b[0m\n\u001b[0m\u001b[0;32m     51\u001b[0m             \u001b[0maccuracy\u001b[0m \u001b[1;33m=\u001b[0m \u001b[0msess\u001b[0m\u001b[1;33m.\u001b[0m\u001b[0mrun\u001b[0m\u001b[1;33m(\u001b[0m\u001b[0mcaps_net\u001b[0m\u001b[1;33m.\u001b[0m\u001b[0maccuracy\u001b[0m\u001b[1;33m,\u001b[0m \u001b[0mfeed_dict\u001b[0m\u001b[1;33m=\u001b[0m\u001b[0mfeed_dict_train\u001b[0m\u001b[1;33m)\u001b[0m\u001b[1;33m\u001b[0m\u001b[0m\n\u001b[0;32m     52\u001b[0m             \u001b[0mtrain_accuracy\u001b[0m\u001b[1;33m.\u001b[0m\u001b[0mappend\u001b[0m\u001b[1;33m(\u001b[0m\u001b[0maccuracy\u001b[0m\u001b[1;33m)\u001b[0m\u001b[1;33m\u001b[0m\u001b[0m\n",
      "\u001b[1;32m~\\AppData\\Local\\Continuum\\anaconda3\\lib\\site-packages\\tensorflow\\python\\client\\session.py\u001b[0m in \u001b[0;36mrun\u001b[1;34m(self, fetches, feed_dict, options, run_metadata)\u001b[0m\n\u001b[0;32m    875\u001b[0m     \u001b[1;32mtry\u001b[0m\u001b[1;33m:\u001b[0m\u001b[1;33m\u001b[0m\u001b[0m\n\u001b[0;32m    876\u001b[0m       result = self._run(None, fetches, feed_dict, options_ptr,\n\u001b[1;32m--> 877\u001b[1;33m                          run_metadata_ptr)\n\u001b[0m\u001b[0;32m    878\u001b[0m       \u001b[1;32mif\u001b[0m \u001b[0mrun_metadata\u001b[0m\u001b[1;33m:\u001b[0m\u001b[1;33m\u001b[0m\u001b[0m\n\u001b[0;32m    879\u001b[0m         \u001b[0mproto_data\u001b[0m \u001b[1;33m=\u001b[0m \u001b[0mtf_session\u001b[0m\u001b[1;33m.\u001b[0m\u001b[0mTF_GetBuffer\u001b[0m\u001b[1;33m(\u001b[0m\u001b[0mrun_metadata_ptr\u001b[0m\u001b[1;33m)\u001b[0m\u001b[1;33m\u001b[0m\u001b[0m\n",
      "\u001b[1;32m~\\AppData\\Local\\Continuum\\anaconda3\\lib\\site-packages\\tensorflow\\python\\client\\session.py\u001b[0m in \u001b[0;36m_run\u001b[1;34m(self, handle, fetches, feed_dict, options, run_metadata)\u001b[0m\n\u001b[0;32m   1098\u001b[0m     \u001b[1;32mif\u001b[0m \u001b[0mfinal_fetches\u001b[0m \u001b[1;32mor\u001b[0m \u001b[0mfinal_targets\u001b[0m \u001b[1;32mor\u001b[0m \u001b[1;33m(\u001b[0m\u001b[0mhandle\u001b[0m \u001b[1;32mand\u001b[0m \u001b[0mfeed_dict_tensor\u001b[0m\u001b[1;33m)\u001b[0m\u001b[1;33m:\u001b[0m\u001b[1;33m\u001b[0m\u001b[0m\n\u001b[0;32m   1099\u001b[0m       results = self._do_run(handle, final_targets, final_fetches,\n\u001b[1;32m-> 1100\u001b[1;33m                              feed_dict_tensor, options, run_metadata)\n\u001b[0m\u001b[0;32m   1101\u001b[0m     \u001b[1;32melse\u001b[0m\u001b[1;33m:\u001b[0m\u001b[1;33m\u001b[0m\u001b[0m\n\u001b[0;32m   1102\u001b[0m       \u001b[0mresults\u001b[0m \u001b[1;33m=\u001b[0m \u001b[1;33m[\u001b[0m\u001b[1;33m]\u001b[0m\u001b[1;33m\u001b[0m\u001b[0m\n",
      "\u001b[1;32m~\\AppData\\Local\\Continuum\\anaconda3\\lib\\site-packages\\tensorflow\\python\\client\\session.py\u001b[0m in \u001b[0;36m_do_run\u001b[1;34m(self, handle, target_list, fetch_list, feed_dict, options, run_metadata)\u001b[0m\n\u001b[0;32m   1270\u001b[0m     \u001b[1;32mif\u001b[0m \u001b[0mhandle\u001b[0m \u001b[1;32mis\u001b[0m \u001b[1;32mNone\u001b[0m\u001b[1;33m:\u001b[0m\u001b[1;33m\u001b[0m\u001b[0m\n\u001b[0;32m   1271\u001b[0m       return self._do_call(_run_fn, feeds, fetches, targets, options,\n\u001b[1;32m-> 1272\u001b[1;33m                            run_metadata)\n\u001b[0m\u001b[0;32m   1273\u001b[0m     \u001b[1;32melse\u001b[0m\u001b[1;33m:\u001b[0m\u001b[1;33m\u001b[0m\u001b[0m\n\u001b[0;32m   1274\u001b[0m       \u001b[1;32mreturn\u001b[0m \u001b[0mself\u001b[0m\u001b[1;33m.\u001b[0m\u001b[0m_do_call\u001b[0m\u001b[1;33m(\u001b[0m\u001b[0m_prun_fn\u001b[0m\u001b[1;33m,\u001b[0m \u001b[0mhandle\u001b[0m\u001b[1;33m,\u001b[0m \u001b[0mfeeds\u001b[0m\u001b[1;33m,\u001b[0m \u001b[0mfetches\u001b[0m\u001b[1;33m)\u001b[0m\u001b[1;33m\u001b[0m\u001b[0m\n",
      "\u001b[1;32m~\\AppData\\Local\\Continuum\\anaconda3\\lib\\site-packages\\tensorflow\\python\\client\\session.py\u001b[0m in \u001b[0;36m_do_call\u001b[1;34m(self, fn, *args)\u001b[0m\n\u001b[0;32m   1276\u001b[0m   \u001b[1;32mdef\u001b[0m \u001b[0m_do_call\u001b[0m\u001b[1;33m(\u001b[0m\u001b[0mself\u001b[0m\u001b[1;33m,\u001b[0m \u001b[0mfn\u001b[0m\u001b[1;33m,\u001b[0m \u001b[1;33m*\u001b[0m\u001b[0margs\u001b[0m\u001b[1;33m)\u001b[0m\u001b[1;33m:\u001b[0m\u001b[1;33m\u001b[0m\u001b[0m\n\u001b[0;32m   1277\u001b[0m     \u001b[1;32mtry\u001b[0m\u001b[1;33m:\u001b[0m\u001b[1;33m\u001b[0m\u001b[0m\n\u001b[1;32m-> 1278\u001b[1;33m       \u001b[1;32mreturn\u001b[0m \u001b[0mfn\u001b[0m\u001b[1;33m(\u001b[0m\u001b[1;33m*\u001b[0m\u001b[0margs\u001b[0m\u001b[1;33m)\u001b[0m\u001b[1;33m\u001b[0m\u001b[0m\n\u001b[0m\u001b[0;32m   1279\u001b[0m     \u001b[1;32mexcept\u001b[0m \u001b[0merrors\u001b[0m\u001b[1;33m.\u001b[0m\u001b[0mOpError\u001b[0m \u001b[1;32mas\u001b[0m \u001b[0me\u001b[0m\u001b[1;33m:\u001b[0m\u001b[1;33m\u001b[0m\u001b[0m\n\u001b[0;32m   1280\u001b[0m       \u001b[0mmessage\u001b[0m \u001b[1;33m=\u001b[0m \u001b[0mcompat\u001b[0m\u001b[1;33m.\u001b[0m\u001b[0mas_text\u001b[0m\u001b[1;33m(\u001b[0m\u001b[0me\u001b[0m\u001b[1;33m.\u001b[0m\u001b[0mmessage\u001b[0m\u001b[1;33m)\u001b[0m\u001b[1;33m\u001b[0m\u001b[0m\n",
      "\u001b[1;32m~\\AppData\\Local\\Continuum\\anaconda3\\lib\\site-packages\\tensorflow\\python\\client\\session.py\u001b[0m in \u001b[0;36m_run_fn\u001b[1;34m(feed_dict, fetch_list, target_list, options, run_metadata)\u001b[0m\n\u001b[0;32m   1261\u001b[0m       \u001b[0mself\u001b[0m\u001b[1;33m.\u001b[0m\u001b[0m_extend_graph\u001b[0m\u001b[1;33m(\u001b[0m\u001b[1;33m)\u001b[0m\u001b[1;33m\u001b[0m\u001b[0m\n\u001b[0;32m   1262\u001b[0m       return self._call_tf_sessionrun(\n\u001b[1;32m-> 1263\u001b[1;33m           options, feed_dict, fetch_list, target_list, run_metadata)\n\u001b[0m\u001b[0;32m   1264\u001b[0m \u001b[1;33m\u001b[0m\u001b[0m\n\u001b[0;32m   1265\u001b[0m     \u001b[1;32mdef\u001b[0m \u001b[0m_prun_fn\u001b[0m\u001b[1;33m(\u001b[0m\u001b[0mhandle\u001b[0m\u001b[1;33m,\u001b[0m \u001b[0mfeed_dict\u001b[0m\u001b[1;33m,\u001b[0m \u001b[0mfetch_list\u001b[0m\u001b[1;33m)\u001b[0m\u001b[1;33m:\u001b[0m\u001b[1;33m\u001b[0m\u001b[0m\n",
      "\u001b[1;32m~\\AppData\\Local\\Continuum\\anaconda3\\lib\\site-packages\\tensorflow\\python\\client\\session.py\u001b[0m in \u001b[0;36m_call_tf_sessionrun\u001b[1;34m(self, options, feed_dict, fetch_list, target_list, run_metadata)\u001b[0m\n\u001b[0;32m   1348\u001b[0m     return tf_session.TF_SessionRun_wrapper(\n\u001b[0;32m   1349\u001b[0m         \u001b[0mself\u001b[0m\u001b[1;33m.\u001b[0m\u001b[0m_session\u001b[0m\u001b[1;33m,\u001b[0m \u001b[0moptions\u001b[0m\u001b[1;33m,\u001b[0m \u001b[0mfeed_dict\u001b[0m\u001b[1;33m,\u001b[0m \u001b[0mfetch_list\u001b[0m\u001b[1;33m,\u001b[0m \u001b[0mtarget_list\u001b[0m\u001b[1;33m,\u001b[0m\u001b[1;33m\u001b[0m\u001b[0m\n\u001b[1;32m-> 1350\u001b[1;33m         run_metadata)\n\u001b[0m\u001b[0;32m   1351\u001b[0m \u001b[1;33m\u001b[0m\u001b[0m\n\u001b[0;32m   1352\u001b[0m   \u001b[1;32mdef\u001b[0m \u001b[0m_call_tf_sessionprun\u001b[0m\u001b[1;33m(\u001b[0m\u001b[0mself\u001b[0m\u001b[1;33m,\u001b[0m \u001b[0mhandle\u001b[0m\u001b[1;33m,\u001b[0m \u001b[0mfeed_dict\u001b[0m\u001b[1;33m,\u001b[0m \u001b[0mfetch_list\u001b[0m\u001b[1;33m)\u001b[0m\u001b[1;33m:\u001b[0m\u001b[1;33m\u001b[0m\u001b[0m\n",
      "\u001b[1;31mKeyboardInterrupt\u001b[0m: "
     ]
    }
   ],
   "source": [
    "EPOCHES = 5\n",
    "BATCH_SIZE = 30\n",
    "TEST_SIZE = 50\n",
    "\n",
    "train_losses = []\n",
    "test_losses = []\n",
    "train_accuracy = []\n",
    "test_accuracy = []\n",
    "imgs_data = []\n",
    "\n",
    "# mnist_num_batches = int(len(mnist_x_train)/BATCH_SIZE)\n",
    "n_batches = int(np.ceil(train_dataset.shape[0] / BATCH_SIZE))\n",
    "for i in range(EPOCHES):\n",
    "    x_batch_imgs, label_batch_imgs = fetch_batch(TEST_SIZE, valid_dataset, valid_labels)\n",
    "    x_batch = prep_images(x_batch_imgs)\n",
    "    label_batch = np.array([1 if 'dog' in i else 0 for i in label_batch_imgs])\n",
    "    x_batch = np.reshape(x_batch, (TEST_SIZE, IMAGE_SIZE, IMAGE_SIZE, 1))\n",
    "#     mnist_x_batch_test, mnist_y_batch_test = next_batch(TEST_SIZE, mnist_x_test, mnist_y_test)\n",
    "#     mnist_x_batch_test = np.reshape(mnist_x_batch_test, (TEST_SIZE, 28, 28, 1))\n",
    "    feed_dict_test = {\n",
    "        caps_net.X: x_batch,\n",
    "        caps_net.Y: label_batch\n",
    "    }\n",
    "    margin_loss = sess.run(caps_net.margin_loss, feed_dict=feed_dict_test)\n",
    "    decoder_loss = sess.run(caps_net.decoder_loss, feed_dict=feed_dict_test)\n",
    "    loss = sess.run(caps_net.loss, feed_dict=feed_dict_test)\n",
    "    accuracy = sess.run(caps_net.accuracy, feed_dict=feed_dict_test)\n",
    "    print('Epoch %d, test margin loss %f' %(i, margin_loss))\n",
    "    print('Epoch %d, test decoder loss %f' %(i, decoder_loss))\n",
    "    print('Epoch %d, test total loss %f' %(i, loss))\n",
    "    print('Epoch %d, test accuracy %f' %(i, accuracy))\n",
    "    test_accuracy.append(accuracy)\n",
    "    test_losses.append([i, margin_loss, decoder_loss, loss])\n",
    "#     imgs_data.append(get_decoded_data(IMAGES_TO_SHOW))\n",
    "    for j in range(n_batches):\n",
    "        x_batch_imgs, label_batch_imgs = next_batch(train_dataset, train_labels, j, BATCH_SIZE)\n",
    "        x_batch = prep_images(x_batch_imgs)\n",
    "        label_batch = np.array([1 if 'dog' in i else 0 for i in label_batch_imgs])\n",
    "        x_batch = np.reshape(x_batch, (BATCH_SIZE, IMAGE_SIZE, IMAGE_SIZE, 1))\n",
    "#         mnist_x_batch, mnist_y_batch = next_batch(BATCH_SIZE, mnist_x_train, mnist_y_train)\n",
    "#         mnist_x_batch = np.reshape(mnist_x_batch, (BATCH_SIZE, 28, 28, 1))\n",
    "        feed_dict_train = {\n",
    "            caps_net.X: x_batch,\n",
    "            caps_net.Y: label_batch\n",
    "        }\n",
    "        sess.run(training_op, feed_dict=feed_dict_train)\n",
    "        if j % 1 == 0 or j == n_batches-1:\n",
    "            margin_loss = sess.run(caps_net.margin_loss, feed_dict=feed_dict_train)\n",
    "            decoder_loss = sess.run(caps_net.decoder_loss, feed_dict=feed_dict_train)\n",
    "            loss = sess.run(caps_net.loss, feed_dict=feed_dict_train)\n",
    "            accuracy = sess.run(caps_net.accuracy, feed_dict=feed_dict_train)\n",
    "            train_accuracy.append(accuracy)\n",
    "            train_losses.append([i, margin_loss, decoder_loss, loss])\n",
    "            print('\\rEpoch: {}, Iter: {}/{} ({:.1f}%),  Loss: {:.5f}, Accuracy: {:.5f}'.format(\n",
    "                i, j, n_batches, j * 100 / n_batches, loss, accuracy), end='')\n",
    "    print('')"
   ]
  },
  {
   "cell_type": "code",
   "execution_count": null,
   "metadata": {},
   "outputs": [],
   "source": []
  },
  {
   "cell_type": "code",
   "execution_count": null,
   "metadata": {},
   "outputs": [],
   "source": []
  },
  {
   "cell_type": "code",
   "execution_count": 6,
   "metadata": {},
   "outputs": [
    {
     "name": "stdout",
     "output_type": "stream",
     "text": [
      "Train dataset shape: (25000,)\n",
      "Train dataset shape: (24950,)\n",
      "Train labels shape: (24950,)\n",
      "Validation dataset shape: (50,)\n",
      "Validation labels shape: (50,)\n"
     ]
    }
   ],
   "source": [
    "TRAIN_DIR = './data/train/'\n",
    "TEST_DIR = './data/test1/'\n",
    "\n",
    "IMAGE_SIZE = 50;\n",
    "CHANNELS = 3\n",
    "\n",
    "valid_size = 50\n",
    "pixel_depth = 255.0\n",
    "\n",
    "train_images = [TRAIN_DIR+i for i in os.listdir(TRAIN_DIR)]\n",
    "\n",
    "def read_image(file_path):\n",
    "  img = cv2.imread(file_path, cv2.IMREAD_COLOR)\n",
    "  if (img.shape[0] >= img.shape[1]):\n",
    "    resizeto = (IMAGE_SIZE, int(round(IMAGE_SIZE * (float(img.shape[1]) / img.shape[0]))))\n",
    "  else:\n",
    "    resizeto = (int(round(IMAGE_SIZE * (float(img.shape[0])  / img.shape[1]))), IMAGE_SIZE)\n",
    "  img = cv2.resize(img, (resizeto[1], resizeto[0]), interpolation=cv2.INTER_CUBIC)\n",
    "#   img = cv2.resize(img, (IMAGE_SIZE, IMAGE_SIZE), interpolation=cv2.INTER_CUBIC)\n",
    "  img = cv2.copyMakeBorder(img, 0, IMAGE_SIZE - img.shape[0], 0,\n",
    "    IMAGE_SIZE - img.shape[1], cv2.BORDER_CONSTANT, 0)\n",
    "  return img[:,:,::-1]\n",
    "\n",
    "def prep_images(images, normalize=True):\n",
    "  count = len(images)\n",
    "  data = np.ndarray((count, IMAGE_SIZE, IMAGE_SIZE, CHANNELS), dtype=np.float32)\n",
    "#   for i in tqdm(range(count)):\n",
    "  for i in range(count):\n",
    "    image = read_image(images[i])\n",
    "    image_data = np.array(image, dtype=np.float32)\n",
    "    if normalize:\n",
    "      image_data[:,:,0] = image_data[:,:,0].astype(float) / pixel_depth\n",
    "      image_data[:,:,1] = image_data[:,:,1].astype(float) / pixel_depth\n",
    "      image_data[:,:,2] = image_data[:,:,2].astype(float) / pixel_depth\n",
    "    data[i] = image_data\n",
    "  return data\n",
    "\n",
    "def randomize_data(data):\n",
    "  data = np.array(data)\n",
    "  permutation = np.random.permutation(data.shape[0])\n",
    "  shuffled_data = data[permutation]\n",
    "  return shuffled_data\n",
    "\n",
    "train_images = randomize_data(train_images)\n",
    "\n",
    "# train_labels = np.array([1 if 'dog' in i else 0 for i in train_images[:3000]])\n",
    "# train_normalized = prep_images(train_images[:3000])\n",
    "\n",
    "print(\"Train dataset shape: {}\".format(train_images.shape))\n",
    "\n",
    "# plt.imshow(train_normalized[0,:,:,:])\n",
    "# plt.show()\n",
    "\n",
    "# train_dataset, train_labels = train_normalized, train_labels\n",
    "\n",
    "def create_val_set(data, labels, valid_size):\n",
    "  data_size = data.shape[0]\n",
    "  all_indices = np.array((range(data_size)))\n",
    "  val_indices = np.random.choice(range(data_size), valid_size, replace=False)\n",
    "  train_indices = np.delete(all_indices, val_indices)\n",
    "  data_train = np.delete(data, val_indices, axis=0)\n",
    "  label_train = np.delete(labels, val_indices, axis=0)\n",
    "  data_val = np.delete(data, train_indices, axis=0)\n",
    "  label_val = np.delete(labels, train_indices, axis=0)\n",
    "  return data_train, label_train, data_val, label_val\n",
    "\n",
    "train_dataset, train_labels,\\\n",
    "valid_dataset, valid_labels = create_val_set(train_images, train_images, valid_size)\n",
    "\n",
    "print('Train dataset shape: {}'.format(train_dataset.shape))\n",
    "print('Train labels shape: {}'.format(train_labels.shape))\n",
    "print('Validation dataset shape: {}'.format(valid_dataset.shape))\n",
    "print('Validation labels shape: {}'.format(valid_labels.shape))"
   ]
  },
  {
   "cell_type": "code",
   "execution_count": 4,
   "metadata": {},
   "outputs": [
    {
     "name": "stdout",
     "output_type": "stream",
     "text": [
      "12500\n"
     ]
    }
   ],
   "source": [
    "# TRAIN_DIR = './data/train/'\n",
    "# TEST_DIR = './data/test1/'\n",
    "# ordered_files = sorted(os.listdir(TEST_DIR), key=lambda x: (int(re.sub('\\D','',x)),x))\n",
    "# test_images =  [TEST_DIR+i for i in ordered_files]\n",
    "# print(len(test_images))"
   ]
  },
  {
   "cell_type": "code",
   "execution_count": 10,
   "metadata": {},
   "outputs": [],
   "source": [
    "def fetch_batch(x, y, batch_index, batch_size):\n",
    "  start = batch_index*batch_size\n",
    "  end = batch_index*batch_size+batch_size\n",
    "  x_batch = x[start:end]\n",
    "  if y is not None:\n",
    "    y_batch = y[start:end]\n",
    "    return x_batch, y_batch\n",
    "  else:\n",
    "    return x_batch"
   ]
  },
  {
   "cell_type": "code",
   "execution_count": 13,
   "metadata": {},
   "outputs": [],
   "source": [
    "tf.reset_default_graph()\n",
    "\n",
    "INPUT_DIM = (50, 50, 3)\n",
    "CLASSES = 10\n",
    "LEARNING_RATE = 0.001\n",
    "\n",
    "caps_net = CapsNet(INPUT_DIM, CLASSES,\n",
    "                   decoder_layers=(512, 1024))\n",
    "\n",
    "optimizer = tf.train.AdamOptimizer(LEARNING_RATE)\n",
    "training_op = optimizer.minimize(caps_net.loss)\n",
    "\n",
    "init = tf.global_variables_initializer()\n",
    "sess = tf.Session()\n",
    "sess.run(init)"
   ]
  },
  {
   "cell_type": "code",
   "execution_count": null,
   "metadata": {},
   "outputs": [],
   "source": []
  }
 ],
 "metadata": {
  "kernelspec": {
   "display_name": "Python 3",
   "language": "python",
   "name": "python3"
  },
  "language_info": {
   "codemirror_mode": {
    "name": "ipython",
    "version": 3
   },
   "file_extension": ".py",
   "mimetype": "text/x-python",
   "name": "python",
   "nbconvert_exporter": "python",
   "pygments_lexer": "ipython3",
   "version": "3.6.5"
  }
 },
 "nbformat": 4,
 "nbformat_minor": 2
}
